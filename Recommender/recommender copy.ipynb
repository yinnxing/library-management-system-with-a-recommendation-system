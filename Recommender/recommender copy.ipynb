{
 "cells": [
  {
   "cell_type": "code",
   "execution_count": 1,
   "metadata": {},
   "outputs": [
    {
     "name": "stdout",
     "output_type": "stream",
     "text": [
      "         ISBN           Book-Title           Book-Author Year-Of-Publication  \\\n",
      "0  0195153448  Classical Mythology    Mark P. O. Morford                2002   \n",
      "1  0002005018         Clara Callan  Richard Bruce Wright                2001   \n",
      "2  0002005018         Clara Callan  Richard Bruce Wright                2001   \n",
      "3  0002005018         Clara Callan  Richard Bruce Wright                2001   \n",
      "4  0002005018         Clara Callan  Richard Bruce Wright                2001   \n",
      "\n",
      "                 Publisher                                        Image-URL-S  \\\n",
      "0  Oxford University Press  http://images.amazon.com/images/P/0195153448.0...   \n",
      "1    HarperFlamingo Canada  http://images.amazon.com/images/P/0002005018.0...   \n",
      "2    HarperFlamingo Canada  http://images.amazon.com/images/P/0002005018.0...   \n",
      "3    HarperFlamingo Canada  http://images.amazon.com/images/P/0002005018.0...   \n",
      "4    HarperFlamingo Canada  http://images.amazon.com/images/P/0002005018.0...   \n",
      "\n",
      "                                         Image-URL-M  \\\n",
      "0  http://images.amazon.com/images/P/0195153448.0...   \n",
      "1  http://images.amazon.com/images/P/0002005018.0...   \n",
      "2  http://images.amazon.com/images/P/0002005018.0...   \n",
      "3  http://images.amazon.com/images/P/0002005018.0...   \n",
      "4  http://images.amazon.com/images/P/0002005018.0...   \n",
      "\n",
      "                                         Image-URL-L  User-ID  Book-Rating  \\\n",
      "0  http://images.amazon.com/images/P/0195153448.0...      2.0          0.0   \n",
      "1  http://images.amazon.com/images/P/0002005018.0...      8.0          5.0   \n",
      "2  http://images.amazon.com/images/P/0002005018.0...  11400.0          0.0   \n",
      "3  http://images.amazon.com/images/P/0002005018.0...  11676.0          8.0   \n",
      "4  http://images.amazon.com/images/P/0002005018.0...  41385.0          0.0   \n",
      "\n",
      "                    Location   Age  \n",
      "0  stockton, california, usa  18.0  \n",
      "1   timmins, ontario, canada   NaN  \n",
      "2    ottawa, ontario, canada  49.0  \n",
      "3              n/a, n/a, n/a   NaN  \n",
      "4   sudbury, ontario, canada   NaN  \n"
     ]
    }
   ],
   "source": [
    "import pandas as pd\n",
    "\n",
    "# Đọc dữ liệu từ các tệp CSV\n",
    "book = pd.read_csv('./Books.csv', low_memory=False)\n",
    "rating = pd.read_csv('./Ratings.csv', low_memory=False)\n",
    "users = pd.read_csv('./Users.csv', low_memory=False)\n",
    "\n",
    "# Kết hợp các bảng dữ liệu\n",
    "df1 = book.merge(rating, how=\"left\", on=\"ISBN\")\n",
    "df_ = df1.merge(users, how=\"left\", on=\"User-ID\")\n",
    "\n",
    "# Tạo một bản sao của dữ liệu đã kết hợp\n",
    "df = df_.copy()\n",
    "\n",
    "# Xem trước dữ liệu\n",
    "print(df.head())\n"
   ]
  },
  {
   "cell_type": "code",
   "execution_count": 2,
   "metadata": {},
   "outputs": [
    {
     "data": {
      "text/plain": [
       "(1032345, 12)"
      ]
     },
     "execution_count": 2,
     "metadata": {},
     "output_type": "execute_result"
    }
   ],
   "source": [
    "df.shape"
   ]
  },
  {
   "cell_type": "code",
   "execution_count": 3,
   "metadata": {},
   "outputs": [
    {
     "name": "stdout",
     "output_type": "stream",
     "text": [
      "<class 'pandas.core.frame.DataFrame'>\n",
      "RangeIndex: 1032345 entries, 0 to 1032344\n",
      "Data columns (total 12 columns):\n",
      " #   Column               Non-Null Count    Dtype  \n",
      "---  ------               --------------    -----  \n",
      " 0   ISBN                 1032345 non-null  object \n",
      " 1   Book-Title           1032345 non-null  object \n",
      " 2   Book-Author          1032343 non-null  object \n",
      " 3   Year-Of-Publication  1032345 non-null  object \n",
      " 4   Publisher            1032343 non-null  object \n",
      " 5   Image-URL-S          1032345 non-null  object \n",
      " 6   Image-URL-M          1032345 non-null  object \n",
      " 7   Image-URL-L          1032341 non-null  object \n",
      " 8   User-ID              1031136 non-null  float64\n",
      " 9   Book-Rating          1031136 non-null  float64\n",
      " 10  Location             1031136 non-null  object \n",
      " 11  Age                  753301 non-null   float64\n",
      "dtypes: float64(3), object(9)\n",
      "memory usage: 94.5+ MB\n"
     ]
    }
   ],
   "source": [
    "#Deleting missing observations in the dataset\n",
    "df.info()\n",
    "df.dropna(inplace=True)"
   ]
  },
  {
   "cell_type": "code",
   "execution_count": 4,
   "metadata": {},
   "outputs": [],
   "source": [
    "#Converting User-ID and Age variable types to int\n",
    "df['User-ID'] = df['User-ID'].astype('int')\n",
    "df['Age'] = df['Age'].astype('int')"
   ]
  },
  {
   "cell_type": "code",
   "execution_count": 5,
   "metadata": {},
   "outputs": [],
   "source": [
    "#Author of The Da Vinci Code written in two different ways\n",
    "df[\"Book-Author\"]=df[\"Book-Author\"].astype(\"string\")\n",
    "df[\"Book-Author\"]=df[\"Book-Author\"].str.replace(\"DAN BROWN\",\"Dan Brown\")"
   ]
  },
  {
   "cell_type": "code",
   "execution_count": 6,
   "metadata": {},
   "outputs": [],
   "source": [
    "################################################################################\n",
    "import pandas as pd\n",
    "from unidecode import unidecode\n",
    "\n",
    "# Giả sử bạn đã có dataframe df với cột \"Book-Author\"\n",
    "df[\"Book-Author\"] = df[\"Book-Author\"].astype(\"string\")\n",
    "\n",
    "# 1. Sửa lỗi mã hóa\n",
    "df[\"Book-Author\"] = df[\"Book-Author\"].apply(lambda x: unidecode(x))\n",
    "\n",
    "# 2. Loại bỏ khoảng trắng thừa ở đầu và cuối chuỗi\n",
    "df[\"Book-Author\"] = df[\"Book-Author\"].str.strip()\n",
    "\n",
    "# 3. Loại bỏ khoảng trắng thừa giữa các từ\n",
    "df[\"Book-Author\"] = df[\"Book-Author\"].str.replace(r'\\s+', ' ', regex=True)\n",
    "\n",
    "# 4. Chuyển đổi thành Title Case (chữ đầu viết hoa)\n",
    "df[\"Book-Author\"] = df[\"Book-Author\"].str.title()\n",
    "\n",
    "# In lại các tác giả độc nhất\n",
    "unique_authors = df[\"Book-Author\"].unique()\n",
    "\n",
    "# Xuất lại thành file CSV hoặc text sau khi chuẩn hóa\n",
    "authors_df = pd.DataFrame(unique_authors, columns=[\"Book-Author\"])\n",
    "authors_df.to_csv('unique_authors_cleaned.csv', index=False)"
   ]
  },
  {
   "cell_type": "code",
   "execution_count": 7,
   "metadata": {},
   "outputs": [],
   "source": [
    "################################################################################\n",
    "import pandas as pd\n",
    "import re\n",
    "from unidecode import unidecode\n",
    "\n",
    "# Giả sử bạn đã có dataframe df với cột \"Book-Author\"\n",
    "df[\"Book-Author\"] = df[\"Book-Author\"].astype(\"string\")\n",
    "\n",
    "# 1. Sửa lỗi mã hóa và chuyển đổi ký tự đặc biệt\n",
    "df[\"Book-Author\"] = df[\"Book-Author\"].apply(lambda x: unidecode(x))\n",
    "\n",
    "# 2. Loại bỏ khoảng trắng thừa ở đầu và cuối chuỗi\n",
    "df[\"Book-Author\"] = df[\"Book-Author\"].str.strip()\n",
    "\n",
    "# 3. Loại bỏ khoảng trắng thừa giữa các từ\n",
    "df[\"Book-Author\"] = df[\"Book-Author\"].str.replace(r'\\s+', ' ', regex=True)\n",
    "\n",
    "# 4. Chuyển đổi thành Title Case (chữ đầu viết hoa)\n",
    "df[\"Book-Author\"] = df[\"Book-Author\"].str.title()\n",
    "\n",
    "# 5. Thay thế các ký tự đặc biệt như \"(C)\" bằng các ký tự chuẩn\n",
    "df[\"Book-Author\"] = df[\"Book-Author\"].str.replace(r'\\(C\\)', 'C', regex=True)  # Thay \"(C)\" bằng 'C'\n",
    "\n",
    "# 6. Các trường hợp đặc biệt cần thay thế\n",
    "# Ví dụ: \"Fra(C)Da(C)Ric\" => \"Frédéric\"\n",
    "df[\"Book-Author\"] = df[\"Book-Author\"].replace({\n",
    "    \"Fra(C)Da(C)Ric\": \"Frédéric\",\n",
    "    \"Rush H., Iii Limbaugh\": \"Rush H. Limbaugh\"\n",
    "}, regex=True)\n",
    "\n",
    "# In lại các tác giả độc nhất\n",
    "unique_authors = df[\"Book-Author\"].unique()\n",
    "\n",
    "# Xuất lại thành file CSV hoặc text sau khi chuẩn hóa\n",
    "authors_df = pd.DataFrame(unique_authors, columns=[\"Book-Author\"])\n",
    "\n"
   ]
  },
  {
   "cell_type": "code",
   "execution_count": 8,
   "metadata": {},
   "outputs": [],
   "source": [
    "#Author of Dreamcatcher book correcting incorrect entries\n",
    "df[\"Book-Author\"]=df[\"Book-Author\"].str.replace(\"Audrey Osofsky\",\"Stephen King\")\n",
    "df[\"Book-Author\"]=df[\"Book-Author\"].str.replace(\"Dinah McCall\",\"Stephen King\")"
   ]
  },
  {
   "cell_type": "code",
   "execution_count": 9,
   "metadata": {},
   "outputs": [],
   "source": [
    "#Extracting Image URL from dataset\n",
    "df.drop(columns=[\"Image-URL-S\",\"Image-URL-M\"],inplace=True)"
   ]
  },
  {
   "cell_type": "code",
   "execution_count": 10,
   "metadata": {},
   "outputs": [
    {
     "data": {
      "text/plain": [
       "count    269616.000000\n",
       "mean          7.736143\n",
       "std           1.814535\n",
       "min           1.000000\n",
       "25%           7.000000\n",
       "50%           8.000000\n",
       "75%           9.000000\n",
       "max          10.000000\n",
       "Name: Book-Rating, dtype: float64"
      ]
     },
     "execution_count": 10,
     "metadata": {},
     "output_type": "execute_result"
    }
   ],
   "source": [
    "#Removing books with zero ratings from the data set\n",
    "df=df[df[\"Book-Rating\"]>0]\n",
    "df[\"Book-Rating\"].describe()"
   ]
  },
  {
   "cell_type": "code",
   "execution_count": 11,
   "metadata": {},
   "outputs": [
    {
     "data": {
      "text/plain": [
       "40543"
      ]
     },
     "execution_count": 11,
     "metadata": {},
     "output_type": "execute_result"
    }
   ],
   "source": [
    "#Unique reader count\n",
    "df[\"User-ID\"].nunique()"
   ]
  },
  {
   "cell_type": "markdown",
   "metadata": {},
   "source": []
  },
  {
   "cell_type": "code",
   "execution_count": 12,
   "metadata": {},
   "outputs": [
    {
     "name": "stdout",
     "output_type": "stream",
     "text": [
      "              ISBN  Count\n",
      "0       0316666343    473\n",
      "1       0971880107    473\n",
      "2       0385504209    373\n",
      "3       0312195516    227\n",
      "4       059035342X    224\n",
      "...            ...    ...\n",
      "119938  0521336449      1\n",
      "119939  0521316898      1\n",
      "119940  0521310474      1\n",
      "119941  0521310458      1\n",
      "119942  B000234N3A      1\n",
      "\n",
      "[119943 rows x 2 columns]\n"
     ]
    }
   ],
   "source": [
    "unique_counts_df = df[['ISBN']].value_counts().reset_index(name='Count')\n",
    "\n",
    "print(unique_counts_df)"
   ]
  },
  {
   "cell_type": "code",
   "execution_count": 13,
   "metadata": {},
   "outputs": [
    {
     "data": {
      "text/plain": [
       "109208"
      ]
     },
     "execution_count": 13,
     "metadata": {},
     "output_type": "execute_result"
    }
   ],
   "source": [
    "#Unique number of books\n",
    "df[\"Book-Title\"].nunique()\n",
    "\n"
   ]
  },
  {
   "cell_type": "code",
   "execution_count": 14,
   "metadata": {},
   "outputs": [
    {
     "data": {
      "text/plain": [
       "119943"
      ]
     },
     "execution_count": 14,
     "metadata": {},
     "output_type": "execute_result"
    }
   ],
   "source": [
    "df[\"ISBN\"].nunique()\n"
   ]
  },
  {
   "cell_type": "code",
   "execution_count": 15,
   "metadata": {},
   "outputs": [
    {
     "data": {
      "text/plain": [
       "User-ID\n",
       "19           1\n",
       "158169       1\n",
       "158156       1\n",
       "158152       1\n",
       "158121       1\n",
       "          ... \n",
       "16795      959\n",
       "171118     962\n",
       "235105    1020\n",
       "153662    1845\n",
       "98391     5689\n",
       "Name: Book-Title, Length: 40543, dtype: int64"
      ]
     },
     "execution_count": 15,
     "metadata": {},
     "output_type": "execute_result"
    }
   ],
   "source": [
    "#We found how many books users read\n",
    "df.groupby('User-ID')['Book-Title'].agg('count').sort_values()"
   ]
  },
  {
   "cell_type": "code",
   "execution_count": 16,
   "metadata": {},
   "outputs": [],
   "source": [
    "#How many times have we read which book?\n",
    "book_counts = pd.DataFrame(df[\"ISBN\"].value_counts())"
   ]
  },
  {
   "cell_type": "code",
   "execution_count": 17,
   "metadata": {},
   "outputs": [],
   "source": [
    "book_counts.sort_values(\"count\", ascending=False, inplace=True)\n"
   ]
  },
  {
   "cell_type": "code",
   "execution_count": 18,
   "metadata": {},
   "outputs": [],
   "source": [
    "# Tìm các sách hiếm (được đọc ít hơn hoặc bằng 90 lần)\n",
    "rare_book = book_counts[book_counts[\"count\"] <= 80].index\n"
   ]
  },
  {
   "cell_type": "code",
   "execution_count": 19,
   "metadata": {},
   "outputs": [
    {
     "data": {
      "text/plain": [
       "119845"
      ]
     },
     "execution_count": 19,
     "metadata": {},
     "output_type": "execute_result"
    }
   ],
   "source": [
    "#Number of rarely read books\n",
    "rare_book.nunique()"
   ]
  },
  {
   "cell_type": "code",
   "execution_count": 20,
   "metadata": {},
   "outputs": [],
   "source": [
    "\n",
    "# common_book = df[~df[\"ISBN\"].isin(rare_book)]\n",
    "# # Lấy danh sách các sách không hiếm (unique titles)\n",
    "# common_books_list = common_book[\"ISBN\"].unique().tolist()\n",
    "# print(common_books_list)\n",
    "# # Đếm tổng số lần xuất hiện của các sách không hiếm (có thể có lặp lại)\n",
    "# total_common_books = len(common_book)\n",
    "# print(\"Tổng số lần xuất hiện của sách không hiếm:\", total_common_books)\n",
    "# # Đếm số lượng tựa sách không hiếm (unique titles)\n",
    "# unique_common_books_count = common_book[\"ISBN\"].nunique()\n",
    "# print(\"Số lượng tựa sách không hiếm:\", unique_common_books_count)\n",
    "\n",
    "\n",
    "\n"
   ]
  },
  {
   "cell_type": "code",
   "execution_count": 21,
   "metadata": {},
   "outputs": [],
   "source": [
    "#By removing the rare books from the dataset, we found the widely read books\n",
    "common_book = df[~df[\"Book-Title\"].isin(rare_book)]\n",
    "common_book.head()\n",
    "common_book.to_csv(\"common_book\", index=False)"
   ]
  },
  {
   "cell_type": "code",
   "execution_count": 1,
   "metadata": {},
   "outputs": [
    {
     "ename": "NameError",
     "evalue": "name 'common_book' is not defined",
     "output_type": "error",
     "traceback": [
      "\u001b[0;31m---------------------------------------------------------------------------\u001b[0m",
      "\u001b[0;31mNameError\u001b[0m                                 Traceback (most recent call last)",
      "Cell \u001b[0;32mIn[1], line 1\u001b[0m\n\u001b[0;32m----> 1\u001b[0m isbn_and_title \u001b[38;5;241m=\u001b[39m \u001b[43mcommon_book\u001b[49m[[\u001b[38;5;124m\"\u001b[39m\u001b[38;5;124mISBN\u001b[39m\u001b[38;5;124m\"\u001b[39m, \u001b[38;5;124m\"\u001b[39m\u001b[38;5;124mBook-Title\u001b[39m\u001b[38;5;124m\"\u001b[39m]]\n\u001b[1;32m      3\u001b[0m \u001b[38;5;66;03m# Lưu vào file CSV\u001b[39;00m\n\u001b[1;32m      4\u001b[0m isbn_and_title\u001b[38;5;241m.\u001b[39mto_csv(\u001b[38;5;124m\"\u001b[39m\u001b[38;5;124mcommon_book_isbn_and_title.csv\u001b[39m\u001b[38;5;124m\"\u001b[39m, index\u001b[38;5;241m=\u001b[39m\u001b[38;5;28;01mFalse\u001b[39;00m)\n",
      "\u001b[0;31mNameError\u001b[0m: name 'common_book' is not defined"
     ]
    }
   ],
   "source": [
    "isbn_and_title = common_book[[\"ISBN\", \"Book-Title\"]]\n",
    "\n",
    "# Lưu vào file CSV\n",
    "isbn_and_title.to_csv(\"common_book_isbn_and_title.csv\", index=False)\n"
   ]
  },
  {
   "cell_type": "code",
   "execution_count": null,
   "metadata": {},
   "outputs": [
    {
     "name": "stderr",
     "output_type": "stream",
     "text": [
      "/var/folders/qs/t62xdq9950j9v52npc96brhc0000gn/T/ipykernel_1657/3054949290.py:2: PerformanceWarning: The following operation may generate 4427619944 cells in the resulting pandas object.\n",
      "  user_book_df = common_book.pivot_table(index=[\"User-ID\"], columns=[\"Book-Title\"], values=\"Book-Rating\")\n"
     ]
    }
   ],
   "source": [
    "#User-Book matrix\n",
    "user_book_df = common_book.pivot_table(index=[\"User-ID\"], columns=[\"Book-Title\"], values=\"Book-Rating\")\n",
    "user_book_df.to_csv(\"user_book_matrix.csv\")\n"
   ]
  },
  {
   "cell_type": "code",
   "execution_count": null,
   "metadata": {},
   "outputs": [],
   "source": [
    "#We chose a book\n",
    "book_name=\"The Da Vinci Code\""
   ]
  },
  {
   "cell_type": "code",
   "execution_count": null,
   "metadata": {},
   "outputs": [],
   "source": [
    "#We found the points given to the book\n",
    "book_name=user_book_df[book_name]\n",
    "book_name.sort_values(ascending=False)"
   ]
  },
  {
   "cell_type": "code",
   "execution_count": null,
   "metadata": {},
   "outputs": [],
   "source": [
    "user_book_df.corrwith(book_name).sort_values(ascending=False).head()"
   ]
  },
  {
   "cell_type": "code",
   "execution_count": null,
   "metadata": {},
   "outputs": [],
   "source": [
    "rec_book=user_book_df.corrwith(book_name).sort_values(ascending=False).head()\n",
    "rec_book_list=list(rec_book.index)\n",
    "\n",
    "rec_book_list"
   ]
  },
  {
   "cell_type": "code",
   "execution_count": null,
   "metadata": {},
   "outputs": [],
   "source": [
    "#Authors of 5 books we recommend\n",
    "df_author=df[[\"Book-Title\",\"Book-Author\"]]\n",
    "df_author.head()\n",
    "\n",
    "df1 = df_author.loc[df_author[\"Book-Title\"].isin(rec_book_list)]\n",
    "\n",
    "df2=df1.drop_duplicates(subset=[\"Book-Author\",\"Book-Author\"], keep=\"first\")\n",
    "df2"
   ]
  },
  {
   "cell_type": "code",
   "execution_count": null,
   "metadata": {},
   "outputs": [],
   "source": [
    "df2.shape"
   ]
  }
 ],
 "metadata": {
  "kernelspec": {
   "display_name": "Python 3",
   "language": "python",
   "name": "python3"
  },
  "language_info": {
   "codemirror_mode": {
    "name": "ipython",
    "version": 3
   },
   "file_extension": ".py",
   "mimetype": "text/x-python",
   "name": "python",
   "nbconvert_exporter": "python",
   "pygments_lexer": "ipython3",
   "version": "3.12.0"
  }
 },
 "nbformat": 4,
 "nbformat_minor": 2
}
