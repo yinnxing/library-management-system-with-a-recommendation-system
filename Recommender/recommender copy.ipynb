{
 "cells": [
  {
   "cell_type": "code",
   "execution_count": null,
   "metadata": {},
   "outputs": [
    {
     "ename": "",
     "evalue": "",
     "output_type": "error",
     "traceback": [
      "\u001b[1;31mRunning cells with 'Python 3.12.0' requires the ipykernel package.\n",
      "\u001b[1;31mInstall 'ipykernel' into the Python environment. \n",
      "\u001b[1;31mCommand: '/usr/local/bin/python3 -m pip install ipykernel -U --user --force-reinstall'"
     ]
    }
   ],
   "source": [
    "import pandas as pd\n",
    "\n",
    "# Đọc dữ liệu từ các tệp CSV\n",
    "book = pd.read_csv('./Books.csv', low_memory=False)\n",
    "rating = pd.read_csv('./Ratings.csv', low_memory=False)\n",
    "users = pd.read_csv('./Users.csv', low_memory=False)\n",
    "\n",
    "# Kết hợp các bảng dữ liệu\n",
    "df1 = book.merge(rating, how=\"left\", on=\"ISBN\")\n",
    "df_ = df1.merge(users, how=\"left\", on=\"User-ID\")\n",
    "\n",
    "# Tạo một bản sao của dữ liệu đã kết hợp\n",
    "df = df_.copy()\n",
    "\n",
    "# Xem trước dữ liệu\n",
    "print(df.head())\n"
   ]
  },
  {
   "cell_type": "code",
   "execution_count": null,
   "metadata": {},
   "outputs": [],
   "source": [
    "df.shape"
   ]
  },
  {
   "cell_type": "code",
   "execution_count": null,
   "metadata": {},
   "outputs": [],
   "source": [
    "#Deleting missing observations in the dataset\n",
    "df.info()\n",
    "df.dropna(inplace=True)"
   ]
  },
  {
   "cell_type": "code",
   "execution_count": null,
   "metadata": {},
   "outputs": [],
   "source": [
    "#Converting User-ID and Age variable types to int\n",
    "df['User-ID'] = df['User-ID'].astype('int')\n",
    "df['Age'] = df['Age'].astype('int')"
   ]
  },
  {
   "cell_type": "code",
   "execution_count": null,
   "metadata": {},
   "outputs": [],
   "source": [
    "#Author of The Da Vinci Code written in two different ways\n",
    "df[\"Book-Author\"]=df[\"Book-Author\"].astype(\"string\")\n",
    "df[\"Book-Author\"]=df[\"Book-Author\"].str.replace(\"DAN BROWN\",\"Dan Brown\")"
   ]
  },
  {
   "cell_type": "code",
   "execution_count": null,
   "metadata": {},
   "outputs": [],
   "source": [
    "################################################################################\n",
    "import pandas as pd\n",
    "from unidecode import unidecode\n",
    "\n",
    "# Giả sử bạn đã có dataframe df với cột \"Book-Author\"\n",
    "df[\"Book-Author\"] = df[\"Book-Author\"].astype(\"string\")\n",
    "\n",
    "# 1. Sửa lỗi mã hóa\n",
    "df[\"Book-Author\"] = df[\"Book-Author\"].apply(lambda x: unidecode(x))\n",
    "\n",
    "# 2. Loại bỏ khoảng trắng thừa ở đầu và cuối chuỗi\n",
    "df[\"Book-Author\"] = df[\"Book-Author\"].str.strip()\n",
    "\n",
    "# 3. Loại bỏ khoảng trắng thừa giữa các từ\n",
    "df[\"Book-Author\"] = df[\"Book-Author\"].str.replace(r'\\s+', ' ', regex=True)\n",
    "\n",
    "# 4. Chuyển đổi thành Title Case (chữ đầu viết hoa)\n",
    "df[\"Book-Author\"] = df[\"Book-Author\"].str.title()\n",
    "\n",
    "# In lại các tác giả độc nhất\n",
    "unique_authors = df[\"Book-Author\"].unique()\n",
    "\n",
    "# Xuất lại thành file CSV hoặc text sau khi chuẩn hóa\n",
    "authors_df = pd.DataFrame(unique_authors, columns=[\"Book-Author\"])\n",
    "authors_df.to_csv('unique_authors_cleaned.csv', index=False)"
   ]
  },
  {
   "cell_type": "code",
   "execution_count": null,
   "metadata": {},
   "outputs": [],
   "source": [
    "################################################################################\n",
    "import pandas as pd\n",
    "import re\n",
    "from unidecode import unidecode\n",
    "\n",
    "# Giả sử bạn đã có dataframe df với cột \"Book-Author\"\n",
    "df[\"Book-Author\"] = df[\"Book-Author\"].astype(\"string\")\n",
    "\n",
    "# 1. Sửa lỗi mã hóa và chuyển đổi ký tự đặc biệt\n",
    "df[\"Book-Author\"] = df[\"Book-Author\"].apply(lambda x: unidecode(x))\n",
    "\n",
    "# 2. Loại bỏ khoảng trắng thừa ở đầu và cuối chuỗi\n",
    "df[\"Book-Author\"] = df[\"Book-Author\"].str.strip()\n",
    "\n",
    "# 3. Loại bỏ khoảng trắng thừa giữa các từ\n",
    "df[\"Book-Author\"] = df[\"Book-Author\"].str.replace(r'\\s+', ' ', regex=True)\n",
    "\n",
    "# 4. Chuyển đổi thành Title Case (chữ đầu viết hoa)\n",
    "df[\"Book-Author\"] = df[\"Book-Author\"].str.title()\n",
    "\n",
    "# 5. Thay thế các ký tự đặc biệt như \"(C)\" bằng các ký tự chuẩn\n",
    "df[\"Book-Author\"] = df[\"Book-Author\"].str.replace(r'\\(C\\)', 'C', regex=True)  # Thay \"(C)\" bằng 'C'\n",
    "\n",
    "# 6. Các trường hợp đặc biệt cần thay thế\n",
    "# Ví dụ: \"Fra(C)Da(C)Ric\" => \"Frédéric\"\n",
    "df[\"Book-Author\"] = df[\"Book-Author\"].replace({\n",
    "    \"Fra(C)Da(C)Ric\": \"Frédéric\",\n",
    "    \"Rush H., Iii Limbaugh\": \"Rush H. Limbaugh\"\n",
    "}, regex=True)\n",
    "\n",
    "# In lại các tác giả độc nhất\n",
    "unique_authors = df[\"Book-Author\"].unique()\n",
    "\n",
    "# Xuất lại thành file CSV hoặc text sau khi chuẩn hóa\n",
    "authors_df = pd.DataFrame(unique_authors, columns=[\"Book-Author\"])\n",
    "\n"
   ]
  },
  {
   "cell_type": "code",
   "execution_count": null,
   "metadata": {},
   "outputs": [],
   "source": [
    "#Author of Dreamcatcher book correcting incorrect entries\n",
    "df[\"Book-Author\"]=df[\"Book-Author\"].str.replace(\"Audrey Osofsky\",\"Stephen King\")\n",
    "df[\"Book-Author\"]=df[\"Book-Author\"].str.replace(\"Dinah McCall\",\"Stephen King\")"
   ]
  },
  {
   "cell_type": "code",
   "execution_count": null,
   "metadata": {},
   "outputs": [],
   "source": [
    "#Extracting Image URL from dataset\n",
    "df.drop(columns=[\"Image-URL-S\",\"Image-URL-M\"],inplace=True)"
   ]
  },
  {
   "cell_type": "code",
   "execution_count": null,
   "metadata": {},
   "outputs": [],
   "source": [
    "#Removing books with zero ratings from the data set\n",
    "df=df[df[\"Book-Rating\"]>0]\n",
    "df[\"Book-Rating\"].describe()"
   ]
  },
  {
   "cell_type": "code",
   "execution_count": null,
   "metadata": {},
   "outputs": [],
   "source": [
    "#Unique reader count\n",
    "df[\"User-ID\"].nunique()"
   ]
  },
  {
   "cell_type": "markdown",
   "metadata": {},
   "source": []
  },
  {
   "cell_type": "code",
   "execution_count": null,
   "metadata": {},
   "outputs": [],
   "source": [
    "unique_counts_df = df[['ISBN']].value_counts().reset_index(name='Count')\n",
    "\n",
    "print(unique_counts_df)"
   ]
  },
  {
   "cell_type": "code",
   "execution_count": null,
   "metadata": {},
   "outputs": [],
   "source": [
    "#Unique number of books\n",
    "df[\"Book-Title\"].nunique()\n",
    "\n"
   ]
  },
  {
   "cell_type": "code",
   "execution_count": null,
   "metadata": {},
   "outputs": [],
   "source": [
    "df[\"ISBN\"].nunique()\n"
   ]
  },
  {
   "cell_type": "code",
   "execution_count": null,
   "metadata": {},
   "outputs": [],
   "source": [
    "#We found how many books users read\n",
    "df.groupby('User-ID')['Book-Title'].agg('count').sort_values()"
   ]
  },
  {
   "cell_type": "code",
   "execution_count": null,
   "metadata": {},
   "outputs": [],
   "source": [
    "#How many times have we read which book?\n",
    "book_counts = pd.DataFrame(df[\"ISBN\"].value_counts())"
   ]
  },
  {
   "cell_type": "code",
   "execution_count": null,
   "metadata": {},
   "outputs": [],
   "source": [
    "book_counts.sort_values(\"count\", ascending=False, inplace=True)\n"
   ]
  },
  {
   "cell_type": "code",
   "execution_count": null,
   "metadata": {},
   "outputs": [],
   "source": [
    "# Tìm các sách hiếm (được đọc ít hơn hoặc bằng 90 lần)\n",
    "rare_book = book_counts[book_counts[\"count\"] <= 80].index\n"
   ]
  },
  {
   "cell_type": "code",
   "execution_count": null,
   "metadata": {},
   "outputs": [],
   "source": [
    "#Number of rarely read books\n",
    "rare_book.nunique()"
   ]
  },
  {
   "cell_type": "code",
   "execution_count": null,
   "metadata": {},
   "outputs": [],
   "source": [
    "\n",
    "# common_book = df[~df[\"ISBN\"].isin(rare_book)]\n",
    "# # Lấy danh sách các sách không hiếm (unique titles)\n",
    "# common_books_list = common_book[\"ISBN\"].unique().tolist()\n",
    "# print(common_books_list)\n",
    "# # Đếm tổng số lần xuất hiện của các sách không hiếm (có thể có lặp lại)\n",
    "# total_common_books = len(common_book)\n",
    "# print(\"Tổng số lần xuất hiện của sách không hiếm:\", total_common_books)\n",
    "# # Đếm số lượng tựa sách không hiếm (unique titles)\n",
    "# unique_common_books_count = common_book[\"ISBN\"].nunique()\n",
    "# print(\"Số lượng tựa sách không hiếm:\", unique_common_books_count)\n",
    "\n",
    "\n",
    "\n"
   ]
  },
  {
   "cell_type": "code",
   "execution_count": null,
   "metadata": {},
   "outputs": [],
   "source": [
    "#By removing the rare books from the dataset, we found the widely read books\n",
    "common_book = df[~df[\"Book-Title\"].isin(rare_book)]\n",
    "common_book.head()\n",
    "common_book.to_csv(\"common_book\", index=False)"
   ]
  },
  {
   "cell_type": "code",
   "execution_count": null,
   "metadata": {},
   "outputs": [],
   "source": [
    "isbn_and_title = common_book[[\"ISBN\", \"Book-Title\"]]\n",
    "\n",
    "# Lưu vào file CSV\n",
    "isbn_and_title.to_csv(\"common_book_isbn_and_title.csv\", index=False)\n"
   ]
  },
  {
   "cell_type": "code",
   "execution_count": null,
   "metadata": {},
   "outputs": [],
   "source": [
    "#User-Book matrix\n",
    "user_book_df = common_book.pivot_table(index=[\"User-ID\"], columns=[\"Book-Title\"], values=\"Book-Rating\")\n",
    "user_book_df.to_csv(\"user_book_matrix.csv\")\n"
   ]
  },
  {
   "cell_type": "code",
   "execution_count": null,
   "metadata": {},
   "outputs": [],
   "source": [
    "#We chose a book\n",
    "book_name=\"The Da Vinci Code\""
   ]
  },
  {
   "cell_type": "code",
   "execution_count": null,
   "metadata": {},
   "outputs": [],
   "source": [
    "#We found the points given to the book\n",
    "book_name=user_book_df[book_name]\n",
    "book_name.sort_values(ascending=False)"
   ]
  },
  {
   "cell_type": "code",
   "execution_count": null,
   "metadata": {},
   "outputs": [],
   "source": [
    "user_book_df.corrwith(book_name).sort_values(ascending=False).head()"
   ]
  },
  {
   "cell_type": "code",
   "execution_count": null,
   "metadata": {},
   "outputs": [],
   "source": [
    "rec_book=user_book_df.corrwith(book_name).sort_values(ascending=False).head()\n",
    "rec_book_list=list(rec_book.index)\n",
    "\n",
    "rec_book_list"
   ]
  },
  {
   "cell_type": "code",
   "execution_count": null,
   "metadata": {},
   "outputs": [],
   "source": [
    "#Authors of 5 books we recommend\n",
    "df_author=df[[\"Book-Title\",\"Book-Author\"]]\n",
    "df_author.head()\n",
    "\n",
    "df1 = df_author.loc[df_author[\"Book-Title\"].isin(rec_book_list)]\n",
    "\n",
    "df2=df1.drop_duplicates(subset=[\"Book-Author\",\"Book-Author\"], keep=\"first\")\n",
    "df2"
   ]
  },
  {
   "cell_type": "code",
   "execution_count": null,
   "metadata": {},
   "outputs": [],
   "source": [
    "df2.shape"
   ]
  }
 ],
 "metadata": {
  "kernelspec": {
   "display_name": "Python 3",
   "language": "python",
   "name": "python3"
  },
  "language_info": {
   "codemirror_mode": {
    "name": "ipython",
    "version": 3
   },
   "file_extension": ".py",
   "mimetype": "text/x-python",
   "name": "python",
   "nbconvert_exporter": "python",
   "pygments_lexer": "ipython3",
   "version": "3.12.0"
  }
 },
 "nbformat": 4,
 "nbformat_minor": 2
}
