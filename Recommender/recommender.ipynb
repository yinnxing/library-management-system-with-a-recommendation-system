{
 "cells": [
  {
   "cell_type": "code",
   "execution_count": 2,
   "metadata": {},
   "outputs": [
    {
     "name": "stdout",
     "output_type": "stream",
     "text": [
      "         ISBN           Book-Title           Book-Author Year-Of-Publication  \\\n",
      "0  0195153448  Classical Mythology    Mark P. O. Morford                2002   \n",
      "1  0002005018         Clara Callan  Richard Bruce Wright                2001   \n",
      "2  0002005018         Clara Callan  Richard Bruce Wright                2001   \n",
      "3  0002005018         Clara Callan  Richard Bruce Wright                2001   \n",
      "4  0002005018         Clara Callan  Richard Bruce Wright                2001   \n",
      "\n",
      "                 Publisher                                        Image-URL-S  \\\n",
      "0  Oxford University Press  http://images.amazon.com/images/P/0195153448.0...   \n",
      "1    HarperFlamingo Canada  http://images.amazon.com/images/P/0002005018.0...   \n",
      "2    HarperFlamingo Canada  http://images.amazon.com/images/P/0002005018.0...   \n",
      "3    HarperFlamingo Canada  http://images.amazon.com/images/P/0002005018.0...   \n",
      "4    HarperFlamingo Canada  http://images.amazon.com/images/P/0002005018.0...   \n",
      "\n",
      "                                         Image-URL-M  \\\n",
      "0  http://images.amazon.com/images/P/0195153448.0...   \n",
      "1  http://images.amazon.com/images/P/0002005018.0...   \n",
      "2  http://images.amazon.com/images/P/0002005018.0...   \n",
      "3  http://images.amazon.com/images/P/0002005018.0...   \n",
      "4  http://images.amazon.com/images/P/0002005018.0...   \n",
      "\n",
      "                                         Image-URL-L  User-ID  Book-Rating  \\\n",
      "0  http://images.amazon.com/images/P/0195153448.0...      2.0          0.0   \n",
      "1  http://images.amazon.com/images/P/0002005018.0...      8.0          5.0   \n",
      "2  http://images.amazon.com/images/P/0002005018.0...  11400.0          0.0   \n",
      "3  http://images.amazon.com/images/P/0002005018.0...  11676.0          8.0   \n",
      "4  http://images.amazon.com/images/P/0002005018.0...  41385.0          0.0   \n",
      "\n",
      "                    Location   Age  \n",
      "0  stockton, california, usa  18.0  \n",
      "1   timmins, ontario, canada   NaN  \n",
      "2    ottawa, ontario, canada  49.0  \n",
      "3              n/a, n/a, n/a   NaN  \n",
      "4   sudbury, ontario, canada   NaN  \n"
     ]
    }
   ],
   "source": [
    "import pandas as pd\n",
    "\n",
    "# Đọc dữ liệu từ các tệp CSV\n",
    "book = pd.read_csv('./Books.csv', low_memory=False)\n",
    "rating = pd.read_csv('./Ratings.csv', low_memory=False)\n",
    "users = pd.read_csv('./Users.csv', low_memory=False)\n",
    "\n",
    "# Kết hợp các bảng dữ liệu\n",
    "df1 = book.merge(rating, how=\"left\", on=\"ISBN\")\n",
    "df_ = df1.merge(users, how=\"left\", on=\"User-ID\")\n",
    "\n",
    "# Tạo một bản sao của dữ liệu đã kết hợp\n",
    "df = df_.copy()\n",
    "\n",
    "# Xem trước dữ liệu\n",
    "print(df.head())\n"
   ]
  },
  {
   "cell_type": "code",
   "execution_count": 3,
   "metadata": {},
   "outputs": [
    {
     "data": {
      "text/plain": [
       "(1032345, 12)"
      ]
     },
     "execution_count": 3,
     "metadata": {},
     "output_type": "execute_result"
    }
   ],
   "source": [
    "df.shape"
   ]
  },
  {
   "cell_type": "code",
   "execution_count": 4,
   "metadata": {},
   "outputs": [
    {
     "name": "stdout",
     "output_type": "stream",
     "text": [
      "<class 'pandas.core.frame.DataFrame'>\n",
      "RangeIndex: 1032345 entries, 0 to 1032344\n",
      "Data columns (total 12 columns):\n",
      " #   Column               Non-Null Count    Dtype  \n",
      "---  ------               --------------    -----  \n",
      " 0   ISBN                 1032345 non-null  object \n",
      " 1   Book-Title           1032345 non-null  object \n",
      " 2   Book-Author          1032343 non-null  object \n",
      " 3   Year-Of-Publication  1032345 non-null  object \n",
      " 4   Publisher            1032343 non-null  object \n",
      " 5   Image-URL-S          1032345 non-null  object \n",
      " 6   Image-URL-M          1032345 non-null  object \n",
      " 7   Image-URL-L          1032341 non-null  object \n",
      " 8   User-ID              1031136 non-null  float64\n",
      " 9   Book-Rating          1031136 non-null  float64\n",
      " 10  Location             1031136 non-null  object \n",
      " 11  Age                  753301 non-null   float64\n",
      "dtypes: float64(3), object(9)\n",
      "memory usage: 94.5+ MB\n"
     ]
    }
   ],
   "source": [
    "#Deleting missing observations in the dataset\n",
    "df.info()\n",
    "df.dropna(inplace=True)"
   ]
  },
  {
   "cell_type": "code",
   "execution_count": 5,
   "metadata": {},
   "outputs": [],
   "source": [
    "#Converting User-ID and Age variable types to int\n",
    "df['User-ID'] = df['User-ID'].astype('int')\n",
    "df['Age'] = df['Age'].astype('int')"
   ]
  },
  {
   "cell_type": "code",
   "execution_count": 6,
   "metadata": {},
   "outputs": [],
   "source": [
    "#Author of The Da Vinci Code written in two different ways\n",
    "df[\"Book-Author\"]=df[\"Book-Author\"].astype(\"string\")\n",
    "df[\"Book-Author\"]=df[\"Book-Author\"].str.replace(\"DAN BROWN\",\"Dan Brown\")"
   ]
  },
  {
   "cell_type": "code",
   "execution_count": 7,
   "metadata": {},
   "outputs": [],
   "source": [
    "################################################################################\n",
    "import pandas as pd\n",
    "from unidecode import unidecode\n",
    "\n",
    "# Giả sử bạn đã có dataframe df với cột \"Book-Author\"\n",
    "df[\"Book-Author\"] = df[\"Book-Author\"].astype(\"string\")\n",
    "\n",
    "# 1. Sửa lỗi mã hóa\n",
    "df[\"Book-Author\"] = df[\"Book-Author\"].apply(lambda x: unidecode(x))\n",
    "\n",
    "# 2. Loại bỏ khoảng trắng thừa ở đầu và cuối chuỗi\n",
    "df[\"Book-Author\"] = df[\"Book-Author\"].str.strip()\n",
    "\n",
    "# 3. Loại bỏ khoảng trắng thừa giữa các từ\n",
    "df[\"Book-Author\"] = df[\"Book-Author\"].str.replace(r'\\s+', ' ', regex=True)\n",
    "\n",
    "# 4. Chuyển đổi thành Title Case (chữ đầu viết hoa)\n",
    "df[\"Book-Author\"] = df[\"Book-Author\"].str.title()\n",
    "\n",
    "# In lại các tác giả độc nhất\n",
    "unique_authors = df[\"Book-Author\"].unique()\n",
    "\n",
    "# Xuất lại thành file CSV hoặc text sau khi chuẩn hóa\n",
    "authors_df = pd.DataFrame(unique_authors, columns=[\"Book-Author\"])\n",
    "authors_df.to_csv('unique_authors_cleaned.csv', index=False)"
   ]
  },
  {
   "cell_type": "code",
   "execution_count": 8,
   "metadata": {},
   "outputs": [],
   "source": [
    "################################################################################\n",
    "import pandas as pd\n",
    "import re\n",
    "from unidecode import unidecode\n",
    "\n",
    "# Giả sử bạn đã có dataframe df với cột \"Book-Author\"\n",
    "df[\"Book-Author\"] = df[\"Book-Author\"].astype(\"string\")\n",
    "\n",
    "# 1. Sửa lỗi mã hóa và chuyển đổi ký tự đặc biệt\n",
    "df[\"Book-Author\"] = df[\"Book-Author\"].apply(lambda x: unidecode(x))\n",
    "\n",
    "# 2. Loại bỏ khoảng trắng thừa ở đầu và cuối chuỗi\n",
    "df[\"Book-Author\"] = df[\"Book-Author\"].str.strip()\n",
    "\n",
    "# 3. Loại bỏ khoảng trắng thừa giữa các từ\n",
    "df[\"Book-Author\"] = df[\"Book-Author\"].str.replace(r'\\s+', ' ', regex=True)\n",
    "\n",
    "# 4. Chuyển đổi thành Title Case (chữ đầu viết hoa)\n",
    "df[\"Book-Author\"] = df[\"Book-Author\"].str.title()\n",
    "\n",
    "# 5. Thay thế các ký tự đặc biệt như \"(C)\" bằng các ký tự chuẩn\n",
    "df[\"Book-Author\"] = df[\"Book-Author\"].str.replace(r'\\(C\\)', 'C', regex=True)  # Thay \"(C)\" bằng 'C'\n",
    "\n",
    "# 6. Các trường hợp đặc biệt cần thay thế\n",
    "# Ví dụ: \"Fra(C)Da(C)Ric\" => \"Frédéric\"\n",
    "df[\"Book-Author\"] = df[\"Book-Author\"].replace({\n",
    "    \"Fra(C)Da(C)Ric\": \"Frédéric\",\n",
    "    \"Rush H., Iii Limbaugh\": \"Rush H. Limbaugh\"\n",
    "}, regex=True)\n",
    "\n",
    "# In lại các tác giả độc nhất\n",
    "unique_authors = df[\"Book-Author\"].unique()\n",
    "\n",
    "# Xuất lại thành file CSV hoặc text sau khi chuẩn hóa\n",
    "authors_df = pd.DataFrame(unique_authors, columns=[\"Book-Author\"])\n",
    "authors_df.to_csv('unique_authors_cleaned.csv', index=False)\n",
    "\n",
    "# Hoặc xuất thành file text\n",
    "with open('unique_authors_cleaned.txt', 'w') as file:\n",
    "    for author in unique_authors:\n",
    "        file.write(f\"{author}\\n\")\n"
   ]
  },
  {
   "cell_type": "code",
   "execution_count": 9,
   "metadata": {},
   "outputs": [
    {
     "name": "stdout",
     "output_type": "stream",
     "text": [
      "Đã loại bỏ dấu \" trong tên tác giả và lưu lại tệp CSV.\n"
     ]
    }
   ],
   "source": [
    "################################################################################\n",
    "import pandas as pd\n",
    "import csv  # Để sử dụng csv.QUOTE_NONE\n",
    "\n",
    "# Đọc tệp CSV\n",
    "authors_df = pd.read_csv('unique_authors_cleaned.csv')\n",
    "\n",
    "# Loại bỏ dấu \" trong cột Book-Author\n",
    "authors_df['Book-Author'] = authors_df['Book-Author'].str.replace('\"', '')\n",
    "\n",
    "# Ghi lại tệp CSV mà không có dấu \" bao quanh tên tác giả\n",
    "authors_df.to_csv('unique_authors_cleaned_no_quotes.csv', index=False, quoting=csv.QUOTE_NONE, escapechar='\\\\')\n",
    "\n",
    "print(\"Đã loại bỏ dấu \\\" trong tên tác giả và lưu lại tệp CSV.\")\n"
   ]
  },
  {
   "cell_type": "code",
   "execution_count": 10,
   "metadata": {},
   "outputs": [],
   "source": [
    "# Chuẩn hóa tên tác giả\n",
    "df[\"Book-Author\"] = df[\"Book-Author\"].str.title()\n",
    "\n",
    "# Lưu DataFrame vào file CSV\n",
    "df.to_csv(\"Books_with_normalized_authors.csv\", index=False, encoding='utf-8')\n"
   ]
  },
  {
   "cell_type": "code",
   "execution_count": 11,
   "metadata": {},
   "outputs": [],
   "source": [
    "#Author of Dreamcatcher book correcting incorrect entries\n",
    "df[\"Book-Author\"]=df[\"Book-Author\"].str.replace(\"Audrey Osofsky\",\"Stephen King\")\n",
    "df[\"Book-Author\"]=df[\"Book-Author\"].str.replace(\"Dinah McCall\",\"Stephen King\")"
   ]
  },
  {
   "cell_type": "code",
   "execution_count": 12,
   "metadata": {},
   "outputs": [],
   "source": [
    "#Extracting Image URL from dataset\n",
    "df.drop(columns=[\"Image-URL-S\",\"Image-URL-M\"],inplace=True)"
   ]
  },
  {
   "cell_type": "code",
   "execution_count": 13,
   "metadata": {},
   "outputs": [
    {
     "data": {
      "text/plain": [
       "count    269616.000000\n",
       "mean          7.736143\n",
       "std           1.814535\n",
       "min           1.000000\n",
       "25%           7.000000\n",
       "50%           8.000000\n",
       "75%           9.000000\n",
       "max          10.000000\n",
       "Name: Book-Rating, dtype: float64"
      ]
     },
     "execution_count": 13,
     "metadata": {},
     "output_type": "execute_result"
    }
   ],
   "source": [
    "#Removing books with zero ratings from the data set\n",
    "df=df[df[\"Book-Rating\"]>0]\n",
    "df[\"Book-Rating\"].describe()"
   ]
  },
  {
   "cell_type": "code",
   "execution_count": 14,
   "metadata": {},
   "outputs": [
    {
     "data": {
      "text/plain": [
       "40543"
      ]
     },
     "execution_count": 14,
     "metadata": {},
     "output_type": "execute_result"
    }
   ],
   "source": [
    "#Unique reader count\n",
    "df[\"User-ID\"].nunique()"
   ]
  },
  {
   "cell_type": "code",
   "execution_count": 15,
   "metadata": {},
   "outputs": [
    {
     "data": {
      "text/plain": [
       "109208"
      ]
     },
     "execution_count": 15,
     "metadata": {},
     "output_type": "execute_result"
    }
   ],
   "source": [
    "#Unique number of books\n",
    "df[\"Book-Title\"].nunique()\n",
    "\n"
   ]
  },
  {
   "cell_type": "code",
   "execution_count": 16,
   "metadata": {},
   "outputs": [
    {
     "data": {
      "text/plain": [
       "User-ID\n",
       "19           1\n",
       "158169       1\n",
       "158156       1\n",
       "158152       1\n",
       "158121       1\n",
       "          ... \n",
       "16795      959\n",
       "171118     962\n",
       "235105    1020\n",
       "153662    1845\n",
       "98391     5689\n",
       "Name: Book-Title, Length: 40543, dtype: int64"
      ]
     },
     "execution_count": 16,
     "metadata": {},
     "output_type": "execute_result"
    }
   ],
   "source": [
    "#We found how many books users read\n",
    "df.groupby('User-ID')['Book-Title'].agg('count').sort_values()"
   ]
  },
  {
   "cell_type": "code",
   "execution_count": 17,
   "metadata": {},
   "outputs": [],
   "source": [
    "#How many times have we read which book?\n",
    "book_counts = pd.DataFrame(df[\"Book-Title\"].value_counts())"
   ]
  },
  {
   "cell_type": "code",
   "execution_count": 18,
   "metadata": {},
   "outputs": [],
   "source": [
    "book_counts.sort_values(\"count\", ascending=False, inplace=True)\n"
   ]
  },
  {
   "cell_type": "code",
   "execution_count": 19,
   "metadata": {},
   "outputs": [],
   "source": [
    "# Tìm các sách hiếm (được đọc ít hơn hoặc bằng 100 lần)\n",
    "rare_book = book_counts[book_counts[\"count\"] <= 90].index\n"
   ]
  },
  {
   "cell_type": "markdown",
   "metadata": {},
   "source": []
  },
  {
   "cell_type": "code",
   "execution_count": 20,
   "metadata": {},
   "outputs": [
    {
     "data": {
      "text/plain": [
       "109092"
      ]
     },
     "execution_count": 20,
     "metadata": {},
     "output_type": "execute_result"
    }
   ],
   "source": [
    "#Number of rarely read books\n",
    "rare_book.nunique()"
   ]
  },
  {
   "cell_type": "code",
   "execution_count": 21,
   "metadata": {},
   "outputs": [
    {
     "data": {
      "text/html": [
       "<div>\n",
       "<style scoped>\n",
       "    .dataframe tbody tr th:only-of-type {\n",
       "        vertical-align: middle;\n",
       "    }\n",
       "\n",
       "    .dataframe tbody tr th {\n",
       "        vertical-align: top;\n",
       "    }\n",
       "\n",
       "    .dataframe thead th {\n",
       "        text-align: right;\n",
       "    }\n",
       "</style>\n",
       "<table border=\"1\" class=\"dataframe\">\n",
       "  <thead>\n",
       "    <tr style=\"text-align: right;\">\n",
       "      <th></th>\n",
       "      <th>ISBN</th>\n",
       "      <th>Book-Title</th>\n",
       "      <th>Book-Author</th>\n",
       "      <th>Year-Of-Publication</th>\n",
       "      <th>Publisher</th>\n",
       "      <th>Image-URL-L</th>\n",
       "      <th>User-ID</th>\n",
       "      <th>Book-Rating</th>\n",
       "      <th>Location</th>\n",
       "      <th>Age</th>\n",
       "    </tr>\n",
       "  </thead>\n",
       "  <tbody>\n",
       "    <tr>\n",
       "      <th>108</th>\n",
       "      <td>0440234743</td>\n",
       "      <td>The Testament</td>\n",
       "      <td>John Grisham</td>\n",
       "      <td>1999</td>\n",
       "      <td>Dell</td>\n",
       "      <td>http://images.amazon.com/images/P/0440234743.0...</td>\n",
       "      <td>7346</td>\n",
       "      <td>9.0</td>\n",
       "      <td>sunnyvale, california, usa</td>\n",
       "      <td>49</td>\n",
       "    </tr>\n",
       "    <tr>\n",
       "      <th>109</th>\n",
       "      <td>0440234743</td>\n",
       "      <td>The Testament</td>\n",
       "      <td>John Grisham</td>\n",
       "      <td>1999</td>\n",
       "      <td>Dell</td>\n",
       "      <td>http://images.amazon.com/images/P/0440234743.0...</td>\n",
       "      <td>7352</td>\n",
       "      <td>8.0</td>\n",
       "      <td>houston, texas, usa</td>\n",
       "      <td>53</td>\n",
       "    </tr>\n",
       "    <tr>\n",
       "      <th>113</th>\n",
       "      <td>0440234743</td>\n",
       "      <td>The Testament</td>\n",
       "      <td>John Grisham</td>\n",
       "      <td>1999</td>\n",
       "      <td>Dell</td>\n",
       "      <td>http://images.amazon.com/images/P/0440234743.0...</td>\n",
       "      <td>11224</td>\n",
       "      <td>6.0</td>\n",
       "      <td>tumwater, washington, usa</td>\n",
       "      <td>51</td>\n",
       "    </tr>\n",
       "    <tr>\n",
       "      <th>116</th>\n",
       "      <td>0440234743</td>\n",
       "      <td>The Testament</td>\n",
       "      <td>John Grisham</td>\n",
       "      <td>1999</td>\n",
       "      <td>Dell</td>\n",
       "      <td>http://images.amazon.com/images/P/0440234743.0...</td>\n",
       "      <td>12923</td>\n",
       "      <td>10.0</td>\n",
       "      <td>louisville, kentucky, usa</td>\n",
       "      <td>39</td>\n",
       "    </tr>\n",
       "    <tr>\n",
       "      <th>117</th>\n",
       "      <td>0440234743</td>\n",
       "      <td>The Testament</td>\n",
       "      <td>John Grisham</td>\n",
       "      <td>1999</td>\n",
       "      <td>Dell</td>\n",
       "      <td>http://images.amazon.com/images/P/0440234743.0...</td>\n",
       "      <td>13552</td>\n",
       "      <td>8.0</td>\n",
       "      <td>cordova, tennessee, usa</td>\n",
       "      <td>32</td>\n",
       "    </tr>\n",
       "  </tbody>\n",
       "</table>\n",
       "</div>"
      ],
      "text/plain": [
       "           ISBN     Book-Title   Book-Author Year-Of-Publication Publisher  \\\n",
       "108  0440234743  The Testament  John Grisham                1999      Dell   \n",
       "109  0440234743  The Testament  John Grisham                1999      Dell   \n",
       "113  0440234743  The Testament  John Grisham                1999      Dell   \n",
       "116  0440234743  The Testament  John Grisham                1999      Dell   \n",
       "117  0440234743  The Testament  John Grisham                1999      Dell   \n",
       "\n",
       "                                           Image-URL-L  User-ID  Book-Rating  \\\n",
       "108  http://images.amazon.com/images/P/0440234743.0...     7346          9.0   \n",
       "109  http://images.amazon.com/images/P/0440234743.0...     7352          8.0   \n",
       "113  http://images.amazon.com/images/P/0440234743.0...    11224          6.0   \n",
       "116  http://images.amazon.com/images/P/0440234743.0...    12923         10.0   \n",
       "117  http://images.amazon.com/images/P/0440234743.0...    13552          8.0   \n",
       "\n",
       "                       Location  Age  \n",
       "108  sunnyvale, california, usa   49  \n",
       "109         houston, texas, usa   53  \n",
       "113   tumwater, washington, usa   51  \n",
       "116   louisville, kentucky, usa   39  \n",
       "117     cordova, tennessee, usa   32  "
      ]
     },
     "execution_count": 21,
     "metadata": {},
     "output_type": "execute_result"
    }
   ],
   "source": [
    "#By removing the rare books from the dataset, we found the widely read books\n",
    "common_book = df[~df[\"Book-Title\"].isin(rare_book)]\n",
    "common_book.head()"
   ]
  },
  {
   "cell_type": "code",
   "execution_count": 22,
   "metadata": {},
   "outputs": [],
   "source": [
    "# Chọn cột 'ISBN' và 'Book-Title' từ common_book, loại bỏ bản sao\n",
    "title_unique = common_book[\"Book-Title\"].drop_duplicates()\n",
    "\n",
    "# Lưu vào file CSV\n",
    "title_unique.to_csv(\"title_unique.csv\", index=False)\n"
   ]
  },
  {
   "cell_type": "code",
   "execution_count": 23,
   "metadata": {},
   "outputs": [],
   "source": [
    "#User-Book matrix\n",
    "user_book_df = common_book.pivot_table(index=[\"User-ID\"], columns=[\"Book-Title\"], values=\"Book-Rating\")\n",
    "user_book_df.to_csv(\"user_book_matrix.csv\")\n"
   ]
  },
  {
   "cell_type": "code",
   "execution_count": 24,
   "metadata": {},
   "outputs": [],
   "source": [
    "#We chose a book\n",
    "book_name=\"The Da Vinci Code\""
   ]
  },
  {
   "cell_type": "code",
   "execution_count": 25,
   "metadata": {},
   "outputs": [
    {
     "data": {
      "text/plain": [
       "User-ID\n",
       "638       10.0\n",
       "93467     10.0\n",
       "240567    10.0\n",
       "239692    10.0\n",
       "237805    10.0\n",
       "          ... \n",
       "278798     NaN\n",
       "278800     NaN\n",
       "278843     NaN\n",
       "278844     NaN\n",
       "278846     NaN\n",
       "Name: The Da Vinci Code, Length: 8388, dtype: float64"
      ]
     },
     "execution_count": 25,
     "metadata": {},
     "output_type": "execute_result"
    }
   ],
   "source": [
    "#We found the points given to the book\n",
    "book_name=user_book_df[book_name]\n",
    "book_name.sort_values(ascending=False)"
   ]
  },
  {
   "cell_type": "code",
   "execution_count": 26,
   "metadata": {},
   "outputs": [
    {
     "name": "stderr",
     "output_type": "stream",
     "text": [
      "/Library/Frameworks/Python.framework/Versions/3.12/lib/python3.12/site-packages/numpy/lib/function_base.py:2897: RuntimeWarning: invalid value encountered in divide\n",
      "  c /= stddev[:, None]\n",
      "/Library/Frameworks/Python.framework/Versions/3.12/lib/python3.12/site-packages/numpy/lib/function_base.py:2898: RuntimeWarning: invalid value encountered in divide\n",
      "  c /= stddev[None, :]\n"
     ]
    },
    {
     "data": {
      "text/plain": [
       "Book-Title\n",
       "The Da Vinci Code                                      1.000000\n",
       "The Divine Secrets of the Ya-Ya Sisterhood: A Novel    0.944911\n",
       "Ender's Game (Ender Wiggins Saga (Paperback))          0.944911\n",
       "Where the Heart Is (Oprah's Book Club (Paperback))     0.921274\n",
       "The Hitchhiker's Guide to the Galaxy                   0.860663\n",
       "dtype: float64"
      ]
     },
     "execution_count": 26,
     "metadata": {},
     "output_type": "execute_result"
    }
   ],
   "source": [
    "user_book_df.corrwith(book_name).sort_values(ascending=False).head()"
   ]
  },
  {
   "cell_type": "code",
   "execution_count": 27,
   "metadata": {},
   "outputs": [
    {
     "data": {
      "text/plain": [
       "['The Da Vinci Code',\n",
       " 'The Divine Secrets of the Ya-Ya Sisterhood: A Novel',\n",
       " \"Ender's Game (Ender Wiggins Saga (Paperback))\",\n",
       " \"Where the Heart Is (Oprah's Book Club (Paperback))\",\n",
       " \"The Hitchhiker's Guide to the Galaxy\"]"
      ]
     },
     "execution_count": 27,
     "metadata": {},
     "output_type": "execute_result"
    }
   ],
   "source": [
    "rec_book=user_book_df.corrwith(book_name).sort_values(ascending=False).head()\n",
    "rec_book_list=list(rec_book.index)\n",
    "\n",
    "rec_book_list"
   ]
  },
  {
   "cell_type": "code",
   "execution_count": 28,
   "metadata": {},
   "outputs": [
    {
     "data": {
      "text/html": [
       "<div>\n",
       "<style scoped>\n",
       "    .dataframe tbody tr th:only-of-type {\n",
       "        vertical-align: middle;\n",
       "    }\n",
       "\n",
       "    .dataframe tbody tr th {\n",
       "        vertical-align: top;\n",
       "    }\n",
       "\n",
       "    .dataframe thead th {\n",
       "        text-align: right;\n",
       "    }\n",
       "</style>\n",
       "<table border=\"1\" class=\"dataframe\">\n",
       "  <thead>\n",
       "    <tr style=\"text-align: right;\">\n",
       "      <th></th>\n",
       "      <th>Book-Title</th>\n",
       "      <th>Book-Author</th>\n",
       "    </tr>\n",
       "  </thead>\n",
       "  <tbody>\n",
       "    <tr>\n",
       "      <th>12484</th>\n",
       "      <td>The Hitchhiker's Guide to the Galaxy</td>\n",
       "      <td>Douglas Adams</td>\n",
       "    </tr>\n",
       "    <tr>\n",
       "      <th>39579</th>\n",
       "      <td>Where the Heart Is (Oprah's Book Club (Paperba...</td>\n",
       "      <td>Billie Letts</td>\n",
       "    </tr>\n",
       "    <tr>\n",
       "      <th>41270</th>\n",
       "      <td>The Da Vinci Code</td>\n",
       "      <td>Dan Brown</td>\n",
       "    </tr>\n",
       "    <tr>\n",
       "      <th>47952</th>\n",
       "      <td>Ender's Game (Ender Wiggins Saga (Paperback))</td>\n",
       "      <td>Orson Scott Card</td>\n",
       "    </tr>\n",
       "    <tr>\n",
       "      <th>129724</th>\n",
       "      <td>The Divine Secrets of the Ya-Ya Sisterhood: A ...</td>\n",
       "      <td>Rebecca Wells</td>\n",
       "    </tr>\n",
       "  </tbody>\n",
       "</table>\n",
       "</div>"
      ],
      "text/plain": [
       "                                               Book-Title       Book-Author\n",
       "12484                The Hitchhiker's Guide to the Galaxy     Douglas Adams\n",
       "39579   Where the Heart Is (Oprah's Book Club (Paperba...      Billie Letts\n",
       "41270                                   The Da Vinci Code         Dan Brown\n",
       "47952       Ender's Game (Ender Wiggins Saga (Paperback))  Orson Scott Card\n",
       "129724  The Divine Secrets of the Ya-Ya Sisterhood: A ...     Rebecca Wells"
      ]
     },
     "execution_count": 28,
     "metadata": {},
     "output_type": "execute_result"
    }
   ],
   "source": [
    "#Authors of 5 books we recommend\n",
    "df_author=df[[\"Book-Title\",\"Book-Author\"]]\n",
    "df_author.head()\n",
    "\n",
    "df1 = df_author.loc[df_author[\"Book-Title\"].isin(rec_book_list)]\n",
    "\n",
    "df2=df1.drop_duplicates(subset=[\"Book-Author\",\"Book-Author\"], keep=\"first\")\n",
    "df2"
   ]
  },
  {
   "cell_type": "code",
   "execution_count": 29,
   "metadata": {},
   "outputs": [
    {
     "data": {
      "text/plain": [
       "(5, 2)"
      ]
     },
     "execution_count": 29,
     "metadata": {},
     "output_type": "execute_result"
    }
   ],
   "source": [
    "df2.shape"
   ]
  }
 ],
 "metadata": {
  "kernelspec": {
   "display_name": "Python 3",
   "language": "python",
   "name": "python3"
  },
  "language_info": {
   "codemirror_mode": {
    "name": "ipython",
    "version": 3
   },
   "file_extension": ".py",
   "mimetype": "text/x-python",
   "name": "python",
   "nbconvert_exporter": "python",
   "pygments_lexer": "ipython3",
   "version": "3.12.0"
  }
 },
 "nbformat": 4,
 "nbformat_minor": 2
}
